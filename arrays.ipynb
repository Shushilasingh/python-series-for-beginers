{
  "cells": [
    {
      "cell_type": "markdown",
      "metadata": {
        "id": "view-in-github",
        "colab_type": "text"
      },
      "source": [
        "<a href=\"https://colab.research.google.com/github/Shushilasingh/python-series-for-beginers/blob/main/arrays.ipynb\" target=\"_parent\"><img src=\"https://colab.research.google.com/assets/colab-badge.svg\" alt=\"Open In Colab\"/></a>"
      ]
    },
    {
      "cell_type": "code",
      "execution_count": null,
      "metadata": {
        "id": "RDpT7Gpw2q-F"
      },
      "outputs": [],
      "source": [
        "#arrays in python"
      ]
    },
    {
      "cell_type": "markdown",
      "metadata": {
        "id": "iPwHQhVV8fp4"
      },
      "source": []
    },
    {
      "cell_type": "code",
      "execution_count": null,
      "metadata": {
        "colab": {
          "base_uri": "https://localhost:8080/"
        },
        "id": "PkHorTvc8kY6",
        "outputId": "71f6fb26-9edb-4bdf-a7f9-7552e565defe"
      },
      "outputs": [
        {
          "name": "stdout",
          "output_type": "stream",
          "text": [
            "the array elements are:\n",
            "4\n",
            "6\n",
            "2\n",
            "9\n"
          ]
        }
      ],
      "source": [
        "import array\n",
        "a = array.array('i',[4,6,2,9])\n",
        "#arr = array('d',[1.5,-2.2,3,5.75])\n",
        "print('the array elements are:')\n",
        "for elements in a:\n",
        "  print(elements)\n",
        "\n"
      ]
    },
    {
      "cell_type": "code",
      "execution_count": null,
      "metadata": {
        "colab": {
          "base_uri": "https://localhost:8080/"
        },
        "id": "wtQBv2gR93T5",
        "outputId": "e6dad72f-e8ff-4658-f082-58e9bcaf611c"
      },
      "outputs": [
        {
          "name": "stdout",
          "output_type": "stream",
          "text": [
            "10 20 30 40 50 "
          ]
        }
      ],
      "source": [
        "from array import *\n",
        "x=array('i',[10,20,30,40,50])\n",
        "n = len(x)\n",
        "for i in  range(n):\n",
        "  print(x[i], end=' ')\n"
      ]
    },
    {
      "cell_type": "markdown",
      "metadata": {
        "id": "tF14hVgaDXC5"
      },
      "source": [
        "sorting the array of elemnets using buuble sort technique"
      ]
    },
    {
      "cell_type": "markdown",
      "metadata": {
        "id": "3QtG3xc8HBVz"
      },
      "source": []
    },
    {
      "cell_type": "code",
      "execution_count": null,
      "metadata": {
        "colab": {
          "background_save": true,
          "base_uri": "https://localhost:8080/"
        },
        "id": "etymE6gMCt26",
        "outputId": "d3e2c7b1-362f-4740-f921-45d24c6a6bf7"
      },
      "outputs": [
        {
          "name": "stdout",
          "output_type": "stream",
          "text": [
            "how many elements?  "
          ]
        }
      ],
      "source": [
        "from array import*\n",
        "x= array('i',[])\n",
        "print('how many elements? ',end=' ')\n",
        "n = int(input())\n",
        "\n",
        "for i in range(n):\n",
        "  print('enter element: ',end='')\n",
        "  x.append(int(input()))\n",
        "print('original array: ', x)\n"
      ]
    },
    {
      "cell_type": "markdown",
      "metadata": {
        "id": "RfX7JJBUHFam"
      },
      "source": []
    },
    {
      "cell_type": "code",
      "execution_count": null,
      "metadata": {
        "id": "V2VGEX_dHHJr"
      },
      "outputs": [],
      "source": [
        "marks = array([[50,60,66,72],[60,89,90,66],[20,23,54,55]])"
      ]
    },
    {
      "cell_type": "markdown",
      "metadata": {
        "id": "4mKBpTwDHJTs"
      },
      "source": [
        "multi dimentional array"
      ]
    },
    {
      "cell_type": "code",
      "execution_count": null,
      "metadata": {
        "id": "c86Fg-egH2Vw"
      },
      "outputs": [],
      "source": [
        "#creating Arrays using logspace\n",
        "from numpy import*\n",
        "a= logspace(1,4,5)\n",
        "n = len(a)\n",
        "for i in range(n):\n",
        "  print('%.if' % a[i], end=' ')"
      ]
    },
    {
      "cell_type": "code",
      "source": [
        "#creating arrays using arange function()\n",
        "from numpy import *\n",
        "a = array([1,2,3,4,5])\n",
        "b = array(a)\n",
        "c = a\n",
        "print(\"a = \",a)\n",
        "print(\"b = \",b)\n",
        "print(\"c = \",c)"
      ],
      "metadata": {
        "colab": {
          "base_uri": "https://localhost:8080/"
        },
        "id": "nojOAFjnMCeM",
        "outputId": "37903705-6deb-4f15-ada8-58f17adf6b22"
      },
      "execution_count": null,
      "outputs": [
        {
          "output_type": "stream",
          "name": "stdout",
          "text": [
            "a =  [1 2 3 4 5]\n",
            "b =  [1 2 3 4 5]\n",
            "c =  [1 2 3 4 5]\n"
          ]
        }
      ]
    },
    {
      "cell_type": "code",
      "source": [
        "# creating array usin linspace\n",
        "from numpy import linspace\n",
        "a = linspace(0, 11, 3)\n",
        "print('a = ',a)"
      ],
      "metadata": {
        "colab": {
          "base_uri": "https://localhost:8080/"
        },
        "id": "NrOGPRUiPB9o",
        "outputId": "882c047b-4624-4702-ed38-fa3a1398168d"
      },
      "execution_count": null,
      "outputs": [
        {
          "output_type": "stream",
          "name": "stdout",
          "text": [
            "a =  [ 0.   5.5 11. ]\n"
          ]
        }
      ]
    },
    {
      "cell_type": "code",
      "source": [
        "#creating array using arrange function\n",
        "from numpy import *\n",
        "a = arange(2,11,2)\n",
        "print(a)"
      ],
      "metadata": {
        "colab": {
          "base_uri": "https://localhost:8080/"
        },
        "id": "4BznAyQ_Plv6",
        "outputId": "25eb6eb4-2b53-4655-cea8-7a4887c4c2b0"
      },
      "execution_count": null,
      "outputs": [
        {
          "output_type": "stream",
          "name": "stdout",
          "text": [
            "[ 2  4  6  8 10]\n"
          ]
        }
      ]
    },
    {
      "cell_type": "code",
      "source": [
        "#creating arrays using zeroes() and ones() functions\n",
        "from numpy import *\n",
        "a = zeros(5, int)\n",
        "print(a)\n",
        "b = ones(5)\n",
        "print(b)"
      ],
      "metadata": {
        "colab": {
          "base_uri": "https://localhost:8080/"
        },
        "id": "9V3075HUQDLi",
        "outputId": "b3acf30a-eb73-4b94-e6fd-4384426a8f2e"
      },
      "execution_count": null,
      "outputs": [
        {
          "output_type": "stream",
          "name": "stdout",
          "text": [
            "[0 0 0 0 0]\n",
            "[1. 1. 1. 1. 1.]\n"
          ]
        }
      ]
    },
    {
      "cell_type": "code",
      "source": [
        "#mathematical operations on arrays\n",
        "arr = array([10, 20, 30, 40])\n",
        "arr = arr +5\n",
        "arr1 = array([10, 20, 30, 40])\n",
        "arr2 = array([1,2,3,4])\n",
        "arr3 = arr1 -arr2\n",
        "print(arr3)"
      ],
      "metadata": {
        "colab": {
          "base_uri": "https://localhost:8080/"
        },
        "id": "evkh9etGQBMD",
        "outputId": "a107a204-27f6-412a-a66d-0c5298325395"
      },
      "execution_count": null,
      "outputs": [
        {
          "output_type": "stream",
          "name": "stdout",
          "text": [
            "[ 9 18 27 36]\n"
          ]
        }
      ]
    },
    {
      "cell_type": "code",
      "source": [
        "#mathematical operation\n",
        "from numpy import *\n",
        "arr = array([10, 20, 30.5,-40])\n",
        "print(\"original array: \", arr)\n",
        "print(\"After addng 5: \",arr+5)\n",
        "print(\"After subtracing 5: \", arr-5)\n",
        "print(\"After multiplying with 5: \", arr*5)\n",
        "print(\"After dividing with 5: \", arr/5)\n",
        "print(\"After modulus with 5: \", arr%5)\n",
        "print(\"Expression value: \", (arr+5)**2-10)"
      ],
      "metadata": {
        "colab": {
          "base_uri": "https://localhost:8080/"
        },
        "id": "gu0nntcWSJVg",
        "outputId": "98ec4340-3d4d-4c25-bb4a-a54f27c82f5d"
      },
      "execution_count": null,
      "outputs": [
        {
          "output_type": "stream",
          "name": "stdout",
          "text": [
            "original array:  [ 10.   20.   30.5 -40. ]\n",
            "After addng 5:  [ 15.   25.   35.5 -35. ]\n",
            "After subtracing 5:  [  5.   15.   25.5 -45. ]\n",
            "After multiplying with 5:  [  50.   100.   152.5 -200. ]\n",
            "After dividing with 5:  [ 2.   4.   6.1 -8. ]\n",
            "After modulus with 5:  [0.  0.  0.5 0. ]\n",
            "Expression value:  [ 215.    615.   1250.25 1215.  ]\n"
          ]
        }
      ]
    },
    {
      "cell_type": "code",
      "source": [
        "#comparing array\n",
        "#to know  the result of comparing two arrays\n",
        "from numpy import *\n",
        "a = array([1,2,3,0])\n",
        "b = array([0,2,3,1])\n",
        "c = a == b\n",
        "print('Result of a==b: ', c)\n",
        "c = a>b\n",
        "print('Result of a>b: ', c)\n",
        "c = a <= b\n",
        "print('Result of a<=b: ',c)"
      ],
      "metadata": {
        "colab": {
          "base_uri": "https://localhost:8080/"
        },
        "id": "EA18cuMcUv7-",
        "outputId": "ff66936d-c208-4b54-b63e-43cec7669b3a"
      },
      "execution_count": null,
      "outputs": [
        {
          "output_type": "stream",
          "name": "stdout",
          "text": [
            "Result of a==b:  [False  True  True False]\n",
            "Result of a>b:  [ True False False False]\n",
            "Result of a<=b:  [False  True  True  True]\n"
          ]
        }
      ]
    },
    {
      "cell_type": "code",
      "source": [
        "#for boolean arrays\n",
        "#logical_and(), logical_or, logical_not for boolean expressions\n",
        "from numpy import *\n",
        "a = array([1,2,3] , int)\n",
        "b =array([0,2,3] , int)\n",
        "c = logical_and(a>0, a<4)\n",
        "print(c)\n",
        "c =  logical_or(b>=0, b==1)\n",
        "print(c)\n",
        "c = logical_not(b)\n",
        "print(c)\n"
      ],
      "metadata": {
        "colab": {
          "base_uri": "https://localhost:8080/"
        },
        "id": "OAGSExhSV5kq",
        "outputId": "4d26c46b-c7f8-4503-c527-7881c9e0bd12"
      },
      "execution_count": null,
      "outputs": [
        {
          "output_type": "stream",
          "name": "stdout",
          "text": [
            "[ True  True  True]\n",
            "[ True  True  True]\n",
            "[ True False False]\n"
          ]
        }
      ]
    },
    {
      "cell_type": "code",
      "source": [
        "#Aliasing the Arrays\n",
        "from numpy import *\n",
        "a = arange(1,6)\n",
        "b = a\n",
        "print('Original array: ',a)\n",
        "print('Alias array: ',b)\n",
        "b[0]=99\n",
        "print('After modification: ')\n",
        "print('original array: ', a)\n",
        "print('Alias array: ',b)"
      ],
      "metadata": {
        "colab": {
          "base_uri": "https://localhost:8080/"
        },
        "id": "ncoOOpaKXXB_",
        "outputId": "daa8fbc8-7a10-4f51-dc7d-75a86a9f039a"
      },
      "execution_count": null,
      "outputs": [
        {
          "output_type": "stream",
          "name": "stdout",
          "text": [
            "Original array:  [1 2 3 4 5]\n",
            "Alias array:  [1 2 3 4 5]\n",
            "After modification: \n",
            "original array:  [99  2  3  4  5]\n",
            "Alias array:  [99  2  3  4  5]\n"
          ]
        }
      ]
    },
    {
      "cell_type": "code",
      "source": [
        "#viewing and copying array\n",
        "from numpy import *\n",
        "a = arange(1,6)\n",
        "b = a.view()\n",
        "print('original array: ', b)\n",
        "print('New array: ', b)\n"
      ],
      "metadata": {
        "colab": {
          "base_uri": "https://localhost:8080/"
        },
        "id": "L9cmq4sAYjZK",
        "outputId": "0ee7bba9-8117-47cf-9b87-ed1801ec4c5b"
      },
      "execution_count": null,
      "outputs": [
        {
          "output_type": "stream",
          "name": "stdout",
          "text": [
            "original array:  [1 2 3 4 5]\n",
            "New array:  [1 2 3 4 5]\n"
          ]
        }
      ]
    },
    {
      "cell_type": "code",
      "source": [
        "#slicing and indexing of an arrya\n",
        "from numpy import *\n",
        "#create array a with elements 10 to 15\n",
        "a = arange(10, 16)\n",
        "print(a)\n",
        "#retrieving  from 1st  to one  element prior to 6th element in steps of 2\n",
        "b = a[1:6:2]\n",
        "print(b)\n",
        "#retrieving  from 6-2= 4th to one element prior to 2nd element in #decreasing stepmsixe\n",
        "b = a[-2:2:-1]\n",
        "print(b)\n",
        "#retrieving from 0th to one elemnt prior to 4th elemnt (6-2= 4th)\n",
        "b = a[:-2:]\n",
        "print(b)"
      ],
      "metadata": {
        "colab": {
          "base_uri": "https://localhost:8080/"
        },
        "id": "gGduxydHZMRv",
        "outputId": "a4da5e10-a639-4a0f-eee6-e164bc8e2c07"
      },
      "execution_count": null,
      "outputs": [
        {
          "output_type": "stream",
          "name": "stdout",
          "text": [
            "[10 11 12 13 14 15]\n",
            "[11 13 15]\n",
            "[14 13]\n",
            "[10 11 12 13]\n"
          ]
        }
      ]
    },
    {
      "cell_type": "code",
      "source": [
        "#indexing an array\n",
        "from numpy import *\n",
        "#create array a with elements 10 to 15\n",
        "a = arange(10,16)\n",
        "print(a)\n",
        "#retrieving  from 1st to one element prior to 6th element i steps of 2\n",
        "a = a[1:6:2]\n",
        "print(a)\n",
        "# display elements using indexing\n",
        "i=0\n",
        "while(i<len(a)):\n",
        "  print(a[i])\n",
        "  i+=1"
      ],
      "metadata": {
        "colab": {
          "base_uri": "https://localhost:8080/"
        },
        "id": "8aJHejQRiXIM",
        "outputId": "4f94b407-4482-491a-a386-c3886e0db75f"
      },
      "execution_count": null,
      "outputs": [
        {
          "output_type": "stream",
          "name": "stdout",
          "text": [
            "[10 11 12 13 14 15]\n",
            "[11 13 15]\n",
            "11\n",
            "13\n",
            "15\n"
          ]
        }
      ]
    },
    {
      "cell_type": "code",
      "source": [
        "#diensions of array\n",
        "arr1 = array([1,2,3,3,4,5])\n",
        "print(arr1)\n",
        "arr2 = array([10,\n",
        "              20,\n",
        "              30,\n",
        "              40])\n",
        "print(arr2)"
      ],
      "metadata": {
        "colab": {
          "base_uri": "https://localhost:8080/"
        },
        "id": "_UcMqodfjeLQ",
        "outputId": "8e8e6165-dcd3-4934-d32a-250b6e5585ec"
      },
      "execution_count": null,
      "outputs": [
        {
          "output_type": "stream",
          "name": "stdout",
          "text": [
            "[1 2 3 3 4 5]\n",
            "[10 20 30 40]\n"
          ]
        }
      ]
    }
  ],
  "metadata": {
    "colab": {
      "provenance": [],
      "authorship_tag": "ABX9TyM/gR/TB9+Xq8DqVi4pJG9U",
      "include_colab_link": true
    },
    "kernelspec": {
      "display_name": "Python 3",
      "name": "python3"
    },
    "language_info": {
      "name": "python"
    }
  },
  "nbformat": 4,
  "nbformat_minor": 0
}