{
  "nbformat": 4,
  "nbformat_minor": 0,
  "metadata": {
    "colab": {
      "provenance": [],
      "authorship_tag": "ABX9TyP1BQ2OFYg/xNz70/CC5uKv",
      "include_colab_link": true
    },
    "kernelspec": {
      "name": "python3",
      "display_name": "Python 3"
    },
    "language_info": {
      "name": "python"
    }
  },
  "cells": [
    {
      "cell_type": "markdown",
      "metadata": {
        "id": "view-in-github",
        "colab_type": "text"
      },
      "source": [
        "<a href=\"https://colab.research.google.com/github/Shushilasingh/python-series-for-beginers/blob/main/conditionals.ipynb\" target=\"_parent\"><img src=\"https://colab.research.google.com/assets/colab-badge.svg\" alt=\"Open In Colab\"/></a>"
      ]
    },
    {
      "cell_type": "code",
      "execution_count": null,
      "metadata": {
        "id": "q7SX27iYn-tq"
      },
      "outputs": [],
      "source": [
        "#control statements"
      ]
    },
    {
      "cell_type": "code",
      "source": [
        "x = 10\n",
        "if x%2==0:\n",
        "  print(x,\"is even number\")\n",
        "else:\n",
        "  print(x,\"is odd number\")"
      ],
      "metadata": {
        "colab": {
          "base_uri": "https://localhost:8080/"
        },
        "id": "qClye2V1oUZw",
        "outputId": "bc1790fd-5978-4bb3-d32b-c3c7c85e2f95"
      },
      "execution_count": null,
      "outputs": [
        {
          "output_type": "stream",
          "name": "stdout",
          "text": [
            "10 is even number\n"
          ]
        }
      ]
    },
    {
      "cell_type": "code",
      "source": [
        "#to know a given number is +,- or zero\n",
        "x = int(input(\"enter a digit:\"))\n",
        "if x==0: print(\"zero\")\n",
        "elif x==1: print(\"one\")\n",
        "elif x==2: print(\"two\")\n",
        "elif x==3: print(\"three\")\n",
        "elif x==4: print(\"four\")\n",
        "else: print('please enter digit between 0 and 4')\n"
      ],
      "metadata": {
        "id": "4jnMorq_ovM4",
        "colab": {
          "base_uri": "https://localhost:8080/"
        },
        "outputId": "cbf8d36c-ad8a-4a8b-f2d5-ccea03e16ca2"
      },
      "execution_count": null,
      "outputs": [
        {
          "output_type": "stream",
          "name": "stdout",
          "text": [
            "enter a digit:3\n",
            "three\n"
          ]
        }
      ]
    },
    {
      "cell_type": "code",
      "source": [
        "x=1\n",
        "while x<=10:\n",
        "  print(x)\n",
        "  x+=1\n",
        "  print(\"end\")\n"
      ],
      "metadata": {
        "colab": {
          "base_uri": "https://localhost:8080/"
        },
        "id": "_o4zQic2qaRU",
        "outputId": "56fc0dab-46cb-4355-ed67-bb41cccb5134"
      },
      "execution_count": null,
      "outputs": [
        {
          "output_type": "stream",
          "name": "stdout",
          "text": [
            "1\n",
            "end\n",
            "2\n",
            "end\n",
            "3\n",
            "end\n",
            "4\n",
            "end\n",
            "5\n",
            "end\n",
            "6\n",
            "end\n",
            "7\n",
            "end\n",
            "8\n",
            "end\n",
            "9\n",
            "end\n",
            "10\n",
            "end\n"
          ]
        }
      ]
    },
    {
      "cell_type": "code",
      "source": [
        "while x<=10:\n",
        "  print(x)\n",
        "  x+=1\n",
        "  print(\"end\")"
      ],
      "metadata": {
        "id": "SaeGrkwls2p1"
      },
      "execution_count": null,
      "outputs": []
    },
    {
      "cell_type": "code",
      "source": [
        "#to display even numbers between 100 and 200\n",
        "x=100\n",
        "while x>=100 and x<=200:\n",
        "  print(x)\n",
        "  x+=5"
      ],
      "metadata": {
        "colab": {
          "base_uri": "https://localhost:8080/"
        },
        "id": "VFkXlaN3uD6L",
        "outputId": "70d68416-bf55-4d73-fda6-e2c70da74f47"
      },
      "execution_count": null,
      "outputs": [
        {
          "output_type": "stream",
          "name": "stdout",
          "text": [
            "100\n",
            "105\n",
            "110\n",
            "115\n",
            "120\n",
            "125\n",
            "130\n",
            "135\n",
            "140\n",
            "145\n",
            "150\n",
            "155\n",
            "160\n",
            "165\n",
            "170\n",
            "175\n",
            "180\n",
            "185\n",
            "190\n",
            "195\n",
            "200\n"
          ]
        }
      ]
    },
    {
      "cell_type": "code",
      "source": [
        "# to display each charecter from a string\n",
        "str='hello'\n",
        "for ch in str:\n",
        "  print(ch)"
      ],
      "metadata": {
        "colab": {
          "base_uri": "https://localhost:8080/"
        },
        "id": "zOaXy427vLvv",
        "outputId": "9403ceae-3019-4931-f42d-ebf17785ac22"
      },
      "execution_count": null,
      "outputs": [
        {
          "output_type": "stream",
          "name": "stdout",
          "text": [
            "h\n",
            "e\n",
            "l\n",
            "l\n",
            "o\n"
          ]
        }
      ]
    },
    {
      "cell_type": "code",
      "source": [
        "str='hello'\n",
        "n=len(str)\n",
        "#find no. of chars in str\n",
        "for i in range(n):\n",
        "  print(str[i])"
      ],
      "metadata": {
        "colab": {
          "base_uri": "https://localhost:8080/"
        },
        "id": "JMGUr77ivwv6",
        "outputId": "e1f6630b-6ff6-45a5-cfee-c14d3c649f3b"
      },
      "execution_count": null,
      "outputs": [
        {
          "output_type": "stream",
          "name": "stdout",
          "text": [
            "h\n",
            "e\n",
            "l\n",
            "l\n",
            "o\n"
          ]
        }
      ]
    },
    {
      "cell_type": "code",
      "source": [
        "#to find sum of list of numbers using for\n",
        "#take a list of numbers\n",
        "list = [10,20,30,40,50]\n",
        "sum=0\n",
        "for i in list:\n",
        "  print(i)\n",
        "  sum+=i\n",
        "print('sum=',sum)"
      ],
      "metadata": {
        "colab": {
          "base_uri": "https://localhost:8080/"
        },
        "id": "w4sbMeoVwfps",
        "outputId": "01d88760-d242-4771-8892-932ff0259770"
      },
      "execution_count": null,
      "outputs": [
        {
          "output_type": "stream",
          "name": "stdout",
          "text": [
            "10\n",
            "20\n",
            "30\n",
            "40\n",
            "50\n",
            "sum= 150\n"
          ]
        }
      ]
    },
    {
      "cell_type": "code",
      "source": [
        "for i in range (3):\n",
        "  for j i range(4)\n",
        "  print('i','')\n"
      ],
      "metadata": {
        "id": "Ie4-RaBkxOc7"
      },
      "execution_count": null,
      "outputs": []
    }
  ]
}