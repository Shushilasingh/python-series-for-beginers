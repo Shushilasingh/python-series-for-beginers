{
  "nbformat": 4,
  "nbformat_minor": 0,
  "metadata": {
    "colab": {
      "provenance": [],
      "authorship_tag": "ABX9TyPxZ8ZtD+VyKu9/Haw5eO4m",
      "include_colab_link": true
    },
    "kernelspec": {
      "name": "python3",
      "display_name": "Python 3"
    },
    "language_info": {
      "name": "python"
    }
  },
  "cells": [
    {
      "cell_type": "markdown",
      "metadata": {
        "id": "view-in-github",
        "colab_type": "text"
      },
      "source": [
        "<a href=\"https://colab.research.google.com/github/Shushilasingh/python-series-for-beginers/blob/main/string_and_charecter11.ipynb\" target=\"_parent\"><img src=\"https://colab.research.google.com/assets/colab-badge.svg\" alt=\"Open In Colab\"/></a>"
      ]
    },
    {
      "cell_type": "code",
      "execution_count": null,
      "metadata": {
        "colab": {
          "base_uri": "https://localhost:8080/"
        },
        "id": "L1SHFLdwXLNz",
        "outputId": "104fb4c5-218e-4bff-cd05-18f51e791c17"
      },
      "outputs": [
        {
          "output_type": "stream",
          "name": "stdout",
          "text": [
            "Welcome to the \"core python programing\" learning\n"
          ]
        }
      ],
      "source": [
        "s1 = 'Welcome to the \"core python programing\" learning'\n",
        "print(s1)"
      ]
    },
    {
      "cell_type": "code",
      "source": [
        "msg = 'Rohan is a cheater \\a stay away from him'\n",
        "print(msg)\n",
        "s = 'do you love me \\r '\n",
        "print(s)"
      ],
      "metadata": {
        "colab": {
          "base_uri": "https://localhost:8080/"
        },
        "id": "fuYO2SWpY1p0",
        "outputId": "ae2ee1e4-ce51-4c7f-f0a9-ac43614fb2f5"
      },
      "execution_count": null,
      "outputs": [
        {
          "output_type": "stream",
          "name": "stdout",
          "text": [
            "Rohan is a cheater \u0007 stay away from him\n",
            "do you love me \r \n"
          ]
        }
      ]
    },
    {
      "cell_type": "code",
      "source": [
        "str = 'core python'\n",
        "n = len(str)\n",
        "print(n)\n"
      ],
      "metadata": {
        "colab": {
          "base_uri": "https://localhost:8080/"
        },
        "id": "BhUpl98JYws5",
        "outputId": "1c430230-06c4-4e08-ca6c-80edd7d3c7ec"
      },
      "execution_count": null,
      "outputs": [
        {
          "output_type": "stream",
          "name": "stdout",
          "text": [
            "11\n"
          ]
        }
      ]
    },
    {
      "cell_type": "code",
      "source": [
        "#indexing on strings\n",
        "str = 'core python'\n",
        "# access each charecter using while loop\n",
        "n = len(str)\n",
        "i=0\n",
        "while i<n:\n",
        "  print(str[i], end=' ')\n",
        "  i+=1\n",
        "print()\n",
        "#accecing in reverse order using negative indedx\n",
        "i =1\n",
        "n =len(str)\n",
        "while i<=n:\n",
        "  print(str[-i], end=' ')\n",
        "  i +=1"
      ],
      "metadata": {
        "colab": {
          "base_uri": "https://localhost:8080/"
        },
        "id": "QoNW6qGkayRv",
        "outputId": "2690a3f6-5778-4816-f631-13352693f328"
      },
      "execution_count": null,
      "outputs": [
        {
          "output_type": "stream",
          "name": "stdout",
          "text": [
            "c o r e   p y t h o n \n",
            "n o h t y p   e r o c "
          ]
        }
      ]
    },
    {
      "cell_type": "code",
      "source": [
        "# accesing elements of a string using for loops\n",
        "str = 'core python'\n",
        "#access each letter using for loop\n",
        "for i in str:\n",
        "  print(i,end=' ')\n",
        "print()\n",
        "#access in reverse order\n",
        "for i in str[:: -1]:\n",
        "  print(i, end='')\n"
      ],
      "metadata": {
        "colab": {
          "base_uri": "https://localhost:8080/"
        },
        "id": "j-hmlSM9esA_",
        "outputId": "f5971b2b-b5b1-4778-fd19-d09b6fbf6645"
      },
      "execution_count": null,
      "outputs": [
        {
          "output_type": "stream",
          "name": "stdout",
          "text": [
            "c o r e   p y t h o n \n",
            "nohtyp eroc"
          ]
        }
      ]
    },
    {
      "cell_type": "code",
      "source": [
        "str ='cor python'\n",
        "str[0:9:1]\n",
        "print(str)"
      ],
      "metadata": {
        "colab": {
          "base_uri": "https://localhost:8080/"
        },
        "id": "0lQlpnBcfq2b",
        "outputId": "8273c099-08c9-4735-9fee-2112f793e68a"
      },
      "execution_count": null,
      "outputs": [
        {
          "output_type": "stream",
          "name": "stdout",
          "text": [
            "cor python\n"
          ]
        }
      ]
    },
    {
      "cell_type": "code",
      "source": [
        "#python program to access the charecters of a string usinfg for loop\n",
        "str='sushila'\n",
        "#access each letter using for loop\n",
        "for i in str:\n",
        "  print(i, end=' ')\n",
        "  for i in str[:: -1]:\n",
        "    print(i, end=' ')"
      ],
      "metadata": {
        "colab": {
          "base_uri": "https://localhost:8080/"
        },
        "id": "gebzTNd3Lrfh",
        "outputId": "62f4e39d-50fa-4f9e-8e4f-af9a2aed2139"
      },
      "execution_count": null,
      "outputs": [
        {
          "output_type": "stream",
          "name": "stdout",
          "text": [
            "s a l i h s u s u a l i h s u s s a l i h s u s h a l i h s u s i a l i h s u s l a l i h s u s a a l i h s u s "
          ]
        }
      ]
    },
    {
      "cell_type": "code",
      "source": [
        "str = ' core python'\n",
        "str[0:9:1]\n"
      ],
      "metadata": {
        "colab": {
          "base_uri": "https://localhost:8080/",
          "height": 36
        },
        "id": "spjjzusTMaUK",
        "outputId": "886e5eb6-2990-4930-f3c0-6c72285dfec9"
      },
      "execution_count": null,
      "outputs": [
        {
          "output_type": "execute_result",
          "data": {
            "text/plain": [
              "' core pyt'"
            ],
            "application/vnd.google.colaboratory.intrinsic+json": {
              "type": "string"
            }
          },
          "metadata": {},
          "execution_count": 5
        }
      ]
    },
    {
      "cell_type": "code",
      "source": [
        "str[0:9:2]"
      ],
      "metadata": {
        "colab": {
          "base_uri": "https://localhost:8080/",
          "height": 36
        },
        "id": "Af6hVtfANduj",
        "outputId": "8a2d1dd3-b82c-41de-e7f0-ec6eefb0a3f4"
      },
      "execution_count": null,
      "outputs": [
        {
          "output_type": "execute_result",
          "data": {
            "text/plain": [
              "' oept'"
            ],
            "application/vnd.google.colaboratory.intrinsic+json": {
              "type": "string"
            }
          },
          "metadata": {},
          "execution_count": 6
        }
      ]
    },
    {
      "cell_type": "code",
      "source": [
        "str[2:4:1]"
      ],
      "metadata": {
        "colab": {
          "base_uri": "https://localhost:8080/",
          "height": 36
        },
        "id": "AsWyHi2-NmsX",
        "outputId": "4f53cea8-2335-4624-d34e-5fec18cdca91"
      },
      "execution_count": null,
      "outputs": [
        {
          "output_type": "execute_result",
          "data": {
            "text/plain": [
              "'or'"
            ],
            "application/vnd.google.colaboratory.intrinsic+json": {
              "type": "string"
            }
          },
          "metadata": {},
          "execution_count": 7
        }
      ]
    },
    {
      "cell_type": "code",
      "source": [
        "str[::2]"
      ],
      "metadata": {
        "colab": {
          "base_uri": "https://localhost:8080/",
          "height": 36
        },
        "id": "kpo2hXvINtGy",
        "outputId": "310eafe9-0a77-4779-dd1e-c318a8da9aa2"
      },
      "execution_count": null,
      "outputs": [
        {
          "output_type": "execute_result",
          "data": {
            "text/plain": [
              "' oepto'"
            ],
            "application/vnd.google.colaboratory.intrinsic+json": {
              "type": "string"
            }
          },
          "metadata": {},
          "execution_count": 8
        }
      ]
    },
    {
      "cell_type": "code",
      "source": [
        "str = 'core python'\n",
        "print(str*2)"
      ],
      "metadata": {
        "colab": {
          "base_uri": "https://localhost:8080/"
        },
        "id": "sT9U0XiuN4BH",
        "outputId": "5879ca38-c8bc-4db5-ea17-72887d27c70c"
      },
      "execution_count": null,
      "outputs": [
        {
          "output_type": "stream",
          "name": "stdout",
          "text": [
            "core pythoncore python\n"
          ]
        }
      ]
    },
    {
      "cell_type": "code",
      "source": [
        "#to know whether sub string is a  main str or not\n",
        "str = input('enter main string: ')\n",
        "sub = input('Enter sub str:')\n",
        "if sub in str:\n",
        "  print(sub+' is  found in main string')\n",
        "else:\n",
        "  print(sub+' is not found in hte main string')"
      ],
      "metadata": {
        "colab": {
          "base_uri": "https://localhost:8080/"
        },
        "id": "QwJEjzaIOL5H",
        "outputId": "52c1da4d-b275-4030-d71b-5aa23a8c335a"
      },
      "execution_count": null,
      "outputs": [
        {
          "output_type": "stream",
          "name": "stdout",
          "text": [
            "enter main string: hello suku this is me\n",
            "Enter sub str:hello\n",
            "hello is  found in main string\n"
          ]
        }
      ]
    },
    {
      "cell_type": "markdown",
      "source": [],
      "metadata": {
        "id": "UtVaoeigQTNl"
      }
    },
    {
      "cell_type": "code",
      "source": [
        "#to find  first occurance of sub string in a main string\n",
        "# removing spaces from strijg\n",
        "if 'mukesh '=='mukesh':\n",
        "  print('welcome')\n",
        "else:\n",
        "  print('Name not found')\n"
      ],
      "metadata": {
        "id": "OstUmBNIPXD3",
        "colab": {
          "base_uri": "https://localhost:8080/"
        },
        "outputId": "563a2935-e83f-440f-a5e2-39ad4ef7d8b9"
      },
      "execution_count": 12,
      "outputs": [
        {
          "output_type": "stream",
          "name": "stdout",
          "text": [
            "Name not found\n"
          ]
        }
      ]
    },
    {
      "cell_type": "code",
      "source": [
        "name = ' mukesh deshmukh '\n",
        "print(name.rstrip())\n"
      ],
      "metadata": {
        "colab": {
          "base_uri": "https://localhost:8080/"
        },
        "id": "3Z9rc3h4UnM6",
        "outputId": "54be42f6-ad6b-43bf-a118-b0b19dec189e"
      },
      "execution_count": 13,
      "outputs": [
        {
          "output_type": "stream",
          "name": "stdout",
          "text": [
            " mukesh deshmukh\n"
          ]
        }
      ]
    },
    {
      "cell_type": "code",
      "source": [
        "# a python program todisplay all positions of a sub string in a given main\n",
        "str = input('Enter main string: ')\n",
        "sub = input('Enter sub string: ')\n",
        "i=0\n",
        "flag=False\n"
      ],
      "metadata": {
        "id": "hqpIDMGTVDM-"
      },
      "execution_count": null,
      "outputs": []
    },
    {
      "cell_type": "code",
      "source": [
        "# A python program to accept and display a group of numbers\n",
        "str = input('Entern numbers separated by space:')\n",
        "#cut the string where a space is found\n",
        "lst = str.split()\n",
        "for i in lst:\n",
        "  print(i)\n",
        "\n",
        "#diplay the numbers from the list"
      ],
      "metadata": {
        "colab": {
          "base_uri": "https://localhost:8080/"
        },
        "id": "oDpm7QPVWAhq",
        "outputId": "bd8a7964-4121-4084-e49b-9b648a17523b"
      },
      "execution_count": 16,
      "outputs": [
        {
          "output_type": "stream",
          "name": "stdout",
          "text": [
            "Entern numbers separated by space:10 20 30 40\n",
            "10\n",
            "20\n",
            "30\n",
            "40\n"
          ]
        }
      ]
    },
    {
      "cell_type": "code",
      "source": [
        "#changing case of a string\n",
        "str = 'python is the future'\n",
        "print(str.upper())\n",
        "print(str.lower())\n",
        "print(str.swapcase())\n",
        "print(str.title())\n"
      ],
      "metadata": {
        "colab": {
          "base_uri": "https://localhost:8080/"
        },
        "id": "Lbkd8jJRXuc0",
        "outputId": "a18aa798-a9ea-4805-efa4-56e73f226bb5"
      },
      "execution_count": 19,
      "outputs": [
        {
          "output_type": "stream",
          "name": "stdout",
          "text": [
            "PYTHON IS THE FUTURE\n",
            "python is the future\n",
            "PYTHON IS THE FUTURE\n",
            "Python Is The Future\n"
          ]
        }
      ]
    },
    {
      "cell_type": "code",
      "source": [
        "#sorting the string\n",
        "str = []\n",
        "#accept how many strings\n",
        "n = int(input('How many strings?'))\n",
        "# append string to str\n",
        "for i in range(n):\n",
        "  print('Enter the string : ', end='')\n",
        "  str.append(input())\n",
        "  #sort the string\n",
        "  # str.sort()\n",
        "str1 = sorted(str)\n",
        "  #display the sorted array\n",
        "print('sorted list:')\n",
        "for i in str1:\n",
        "  print(i)\n"
      ],
      "metadata": {
        "colab": {
          "base_uri": "https://localhost:8080/"
        },
        "id": "Cu9gKcWKY_c3",
        "outputId": "b4b2e5f9-b4bf-476e-930d-a16466427fe2"
      },
      "execution_count": 20,
      "outputs": [
        {
          "output_type": "stream",
          "name": "stdout",
          "text": [
            "How many strings?3\n",
            "Enter the string : delhi\n",
            "Enter the string : agra\n",
            "Enter the string : faridabad\n",
            "sorted list:\n",
            "agra\n",
            "delhi\n",
            "faridabad\n"
          ]
        }
      ]
    },
    {
      "cell_type": "code",
      "source": [
        "# to find  no. of charecters in astrig\n",
        "str = input('Enter a string')\n",
        "i=0\n",
        "for i in str:\n",
        "  print(str[i], end='')\n",
        "  i+=1\n",
        "print('\\nNo. of charecters: ', i)"
      ],
      "metadata": {
        "id": "W9WZVm-3Yj4P"
      },
      "execution_count": null,
      "outputs": []
    }
  ]
}